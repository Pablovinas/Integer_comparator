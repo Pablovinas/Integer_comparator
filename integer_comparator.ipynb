{
 "cells": [
  {
   "cell_type": "markdown",
   "metadata": {},
   "source": [
    "In this notebook we are going to build a function using Qiskit which determines the largest integer between number_1 and number_2"
   ]
  },
  {
   "cell_type": "markdown",
   "metadata": {},
   "source": [
    "First, basic imports"
   ]
  },
  {
   "cell_type": "code",
   "execution_count": null,
   "metadata": {},
   "outputs": [],
   "source": [
    "import numpy as np\n",
    "\n",
    "# Importing standard Qiskit libraries\n",
    "from qiskit import QuantumCircuit, transpile, Aer, IBMQ, assemble\n",
    "from qiskit.tools.jupyter import *\n",
    "from qiskit.visualization import *\n",
    "from qiskit.providers.aer import QasmSimulator"
   ]
  },
  {
   "cell_type": "markdown",
   "metadata": {},
   "source": [
    "Our function is going to be baesd on the following reference: https://www.researchgate.net/publication/228574906_Quantum_bit_string_comparator_Circuits_and_applications"
   ]
  },
  {
   "cell_type": "markdown",
   "metadata": {},
   "source": [
    "First, we define helpul functions to encode the integers and to define the main subcircuit $U_c$ for a given qubit position n"
   ]
  },
  {
   "cell_type": "code",
   "execution_count": 7,
   "metadata": {},
   "outputs": [],
   "source": [
    "def int_gates(number,number_order):\n",
    "    \n",
    "    binary = '{0:b}'.format(number)[::-1]\n",
    "    \n",
    "    for i,j in enumerate(binary):\n",
    "        if int(j) == 1:\n",
    "            qc.x(5*i+number_order)\n",
    "\n",
    "def U_c(n):\n",
    "\n",
    "    qc.x(n+1)\n",
    "\n",
    "    qc.toffoli(n,n+1,n+2)\n",
    "\n",
    "    qc.x(n)\n",
    "    qc.x(n+1)\n",
    "\n",
    "    qc.toffoli(n,n+1,n+3)\n",
    "    \n",
    "    qc.x(n)"
   ]
  },
  {
   "cell_type": "markdown",
   "metadata": {},
   "source": [
    "Now, the circuit example of the reference is built for the case of len=3 binary numbers"
   ]
  },
  {
   "cell_type": "code",
   "execution_count": 8,
   "metadata": {},
   "outputs": [
    {
     "data": {
      "text/html": [
       "<pre style=\"word-wrap: normal;white-space: pre;background: #fff0;line-height: 1.1;font-family: &quot;Courier New&quot;,Courier,monospace\">      ┌───┐ ░           ┌───┐     ┌───┐ ░                                ░    »\n",
       " q_0: ┤ X ├─░────────■──┤ X ├──■──┤ X ├─░────────────────────────────────░────»\n",
       "      └───┘ ░ ┌───┐  │  ├───┤  │  └───┘ ░                                ░    »\n",
       " q_1: ──────░─┤ X ├──■──┤ X ├──■────────░────────────────────────────────░────»\n",
       "            ░ └───┘┌─┴─┐└───┘  │        ░ ┌───┐     ┌───┐     ┌───┐      ░ ┌─┐»\n",
       " q_2: ──────░──────┤ X ├───────┼────────░─┤ X ├──■──┤ X ├─────┤ X ├──────░─┤M├»\n",
       "            ░      └───┘     ┌─┴─┐      ░ ├───┤  │  ├───┤     └─┬─┘┌───┐ ░ └╥┘»\n",
       " q_3: ──────░────────────────┤ X ├──────░─┤ X ├──■──┤ X ├───────┼──┤ X ├─░──╫─»\n",
       "            ░                └───┘      ░ └───┘┌─┴─┐└───┘       │  └─┬─┘ ░  ║ »\n",
       " q_4: ──────░───────────────────────────░──────┤ X ├────────────■────■───░──╫─»\n",
       "      ┌───┐ ░           ┌───┐     ┌───┐ ░      └───┘            │    │   ░  ║ »\n",
       " q_5: ┤ X ├─░────────■──┤ X ├──■──┤ X ├─░───────────────────────┼────┼───░──╫─»\n",
       "      └───┘ ░ ┌───┐  │  ├───┤  │  └───┘ ░                       │    │   ░  ║ »\n",
       " q_6: ──────░─┤ X ├──■──┤ X ├──■────────░───────────────────────┼────┼───░──╫─»\n",
       "            ░ └───┘┌─┴─┐└───┘  │        ░ ┌───┐     ┌───┐┌───┐  │    │   ░  ║ »\n",
       " q_7: ──────░──────┤ X ├───────┼────────░─┤ X ├──■──┤ X ├┤ X ├──■────┼───░──╫─»\n",
       "            ░      └───┘     ┌─┴─┐      ░ ├───┤  │  ├───┤└─┬─┘┌───┐  │   ░  ║ »\n",
       " q_8: ──────░────────────────┤ X ├──────░─┤ X ├──■──┤ X ├──┼──┤ X ├──■───░──╫─»\n",
       "            ░                └───┘      ░ └───┘┌─┴─┐└───┘  │  └─┬─┘      ░  ║ »\n",
       " q_9: ──────░───────────────────────────░──────┤ X ├───────■────■────────░──╫─»\n",
       "            ░           ┌───┐     ┌───┐ ░      └───┘       │    │        ░  ║ »\n",
       "q_10: ──────░────────■──┤ X ├──■──┤ X ├─░──────────────────┼────┼────────░──╫─»\n",
       "      ┌───┐ ░ ┌───┐  │  ├───┤  │  └───┘ ░                  │    │        ░  ║ »\n",
       "q_11: ┤ X ├─░─┤ X ├──■──┤ X ├──■────────░──────────────────┼────┼────────░──╫─»\n",
       "      └───┘ ░ └───┘┌─┴─┐└───┘  │        ░                  │    │        ░  ║ »\n",
       "q_12: ──────░──────┤ X ├───────┼────────░──────────────────■────┼────────░──╫─»\n",
       "            ░      └───┘     ┌─┴─┐      ░                       │        ░  ║ »\n",
       "q_13: ──────░────────────────┤ X ├──────░───────────────────────■────────░──╫─»\n",
       "            ░                └───┘      ░                                ░  ║ »\n",
       " c: 2/══════════════════════════════════════════════════════════════════════╩═»\n",
       "                                                                            0 »\n",
       "«         \n",
       "« q_0: ───\n",
       "«         \n",
       "« q_1: ───\n",
       "«         \n",
       "« q_2: ───\n",
       "«      ┌─┐\n",
       "« q_3: ┤M├\n",
       "«      └╥┘\n",
       "« q_4: ─╫─\n",
       "«       ║ \n",
       "« q_5: ─╫─\n",
       "«       ║ \n",
       "« q_6: ─╫─\n",
       "«       ║ \n",
       "« q_7: ─╫─\n",
       "«       ║ \n",
       "« q_8: ─╫─\n",
       "«       ║ \n",
       "« q_9: ─╫─\n",
       "«       ║ \n",
       "«q_10: ─╫─\n",
       "«       ║ \n",
       "«q_11: ─╫─\n",
       "«       ║ \n",
       "«q_12: ─╫─\n",
       "«       ║ \n",
       "«q_13: ─╫─\n",
       "«       ║ \n",
       "« c: 2/═╩═\n",
       "«       1 </pre>"
      ],
      "text/plain": [
       "      ┌───┐ ░           ┌───┐     ┌───┐ ░                                ░    »\n",
       " q_0: ┤ X ├─░────────■──┤ X ├──■──┤ X ├─░────────────────────────────────░────»\n",
       "      └───┘ ░ ┌───┐  │  ├───┤  │  └───┘ ░                                ░    »\n",
       " q_1: ──────░─┤ X ├──■──┤ X ├──■────────░────────────────────────────────░────»\n",
       "            ░ └───┘┌─┴─┐└───┘  │        ░ ┌───┐     ┌───┐     ┌───┐      ░ ┌─┐»\n",
       " q_2: ──────░──────┤ X ├───────┼────────░─┤ X ├──■──┤ X ├─────┤ X ├──────░─┤M├»\n",
       "            ░      └───┘     ┌─┴─┐      ░ ├───┤  │  ├───┤     └─┬─┘┌───┐ ░ └╥┘»\n",
       " q_3: ──────░────────────────┤ X ├──────░─┤ X ├──■──┤ X ├───────┼──┤ X ├─░──╫─»\n",
       "            ░                └───┘      ░ └───┘┌─┴─┐└───┘       │  └─┬─┘ ░  ║ »\n",
       " q_4: ──────░───────────────────────────░──────┤ X ├────────────■────■───░──╫─»\n",
       "      ┌───┐ ░           ┌───┐     ┌───┐ ░      └───┘            │    │   ░  ║ »\n",
       " q_5: ┤ X ├─░────────■──┤ X ├──■──┤ X ├─░───────────────────────┼────┼───░──╫─»\n",
       "      └───┘ ░ ┌───┐  │  ├───┤  │  └───┘ ░                       │    │   ░  ║ »\n",
       " q_6: ──────░─┤ X ├──■──┤ X ├──■────────░───────────────────────┼────┼───░──╫─»\n",
       "            ░ └───┘┌─┴─┐└───┘  │        ░ ┌───┐     ┌───┐┌───┐  │    │   ░  ║ »\n",
       " q_7: ──────░──────┤ X ├───────┼────────░─┤ X ├──■──┤ X ├┤ X ├──■────┼───░──╫─»\n",
       "            ░      └───┘     ┌─┴─┐      ░ ├───┤  │  ├───┤└─┬─┘┌───┐  │   ░  ║ »\n",
       " q_8: ──────░────────────────┤ X ├──────░─┤ X ├──■──┤ X ├──┼──┤ X ├──■───░──╫─»\n",
       "            ░                └───┘      ░ └───┘┌─┴─┐└───┘  │  └─┬─┘      ░  ║ »\n",
       " q_9: ──────░───────────────────────────░──────┤ X ├───────■────■────────░──╫─»\n",
       "            ░           ┌───┐     ┌───┐ ░      └───┘       │    │        ░  ║ »\n",
       "q_10: ──────░────────■──┤ X ├──■──┤ X ├─░──────────────────┼────┼────────░──╫─»\n",
       "      ┌───┐ ░ ┌───┐  │  ├───┤  │  └───┘ ░                  │    │        ░  ║ »\n",
       "q_11: ┤ X ├─░─┤ X ├──■──┤ X ├──■────────░──────────────────┼────┼────────░──╫─»\n",
       "      └───┘ ░ └───┘┌─┴─┐└───┘  │        ░                  │    │        ░  ║ »\n",
       "q_12: ──────░──────┤ X ├───────┼────────░──────────────────■────┼────────░──╫─»\n",
       "            ░      └───┘     ┌─┴─┐      ░                       │        ░  ║ »\n",
       "q_13: ──────░────────────────┤ X ├──────░───────────────────────■────────░──╫─»\n",
       "            ░                └───┘      ░                                ░  ║ »\n",
       " c: 2/══════════════════════════════════════════════════════════════════════╩═»\n",
       "                                                                            0 »\n",
       "«         \n",
       "« q_0: ───\n",
       "«         \n",
       "« q_1: ───\n",
       "«         \n",
       "« q_2: ───\n",
       "«      ┌─┐\n",
       "« q_3: ┤M├\n",
       "«      └╥┘\n",
       "« q_4: ─╫─\n",
       "«       ║ \n",
       "« q_5: ─╫─\n",
       "«       ║ \n",
       "« q_6: ─╫─\n",
       "«       ║ \n",
       "« q_7: ─╫─\n",
       "«       ║ \n",
       "« q_8: ─╫─\n",
       "«       ║ \n",
       "« q_9: ─╫─\n",
       "«       ║ \n",
       "«q_10: ─╫─\n",
       "«       ║ \n",
       "«q_11: ─╫─\n",
       "«       ║ \n",
       "«q_12: ─╫─\n",
       "«       ║ \n",
       "«q_13: ─╫─\n",
       "«       ║ \n",
       "« c: 2/═╩═\n",
       "«       1 "
      ]
     },
     "execution_count": 8,
     "metadata": {},
     "output_type": "execute_result"
    }
   ],
   "source": [
    "qc = QuantumCircuit(14,2)\n",
    "\n",
    "int_gates(3,0)\n",
    "int_gates(4,1)\n",
    "\n",
    "qc.barrier()\n",
    "\n",
    "U_c(0)\n",
    "U_c(5)\n",
    "U_c(10)\n",
    "\n",
    "qc.barrier()\n",
    "\n",
    "qc.x(2)\n",
    "qc.x(3)\n",
    "qc.toffoli(2,3,4)\n",
    "qc.x(2)\n",
    "qc.x(3)\n",
    "\n",
    "qc.x(7)\n",
    "qc.x(8)\n",
    "qc.toffoli(7,8,9)\n",
    "qc.x(7)\n",
    "qc.x(8)\n",
    "\n",
    "qc.toffoli(12,9,7)\n",
    "qc.toffoli(13,9,8)\n",
    "\n",
    "qc.toffoli(7,4,2)\n",
    "qc.toffoli(8,4,3)\n",
    "\n",
    "qc.barrier()\n",
    "\n",
    "qc.measure(2,0)\n",
    "qc.measure(3,1)\n",
    "\n",
    "qc.draw()"
   ]
  },
  {
   "cell_type": "markdown",
   "metadata": {},
   "source": [
    "The only step left is to simulate the output and get results. But let's do it directly for a general function which deffines a circuit according to the required dimension in order to comparing the two integers"
   ]
  },
  {
   "cell_type": "code",
   "execution_count": 3,
   "metadata": {},
   "outputs": [],
   "source": [
    "#Let's deffine a fucntion which performs the task\n",
    "\n",
    "def integer_comparator(number_1,number_2):\n",
    "    \n",
    "    #Arguments: the two integers to compare\n",
    "    #Output: the biggest integer (also tells when they are equal)\n",
    "    \n",
    "    def int_gates(number,number_order): #Function to encode binary numbers using Pauli-X gates.\n",
    "    \n",
    "        binary = '{0:b}'.format(number)[::-1]\n",
    "    \n",
    "        for i,j in enumerate(binary):\n",
    "            if int(j) == 1:\n",
    "                qc.x(5*i+number_order)\n",
    "\n",
    "    def U_c(n): #This function defines the main block of the circuit U_c for a given qubit possition n\n",
    "\n",
    "        qc.x(n+1)\n",
    "\n",
    "        qc.toffoli(n,n+1,n+2)\n",
    "\n",
    "        qc.x(n)\n",
    "        qc.x(n+1)\n",
    "\n",
    "        qc.toffoli(n,n+1,n+3)\n",
    "\n",
    "        qc.x(n)\n",
    "        \n",
    "    max_len = max(len('{0:b}'.format(number_1)),len('{0:b}'.format(number_2))) \n",
    "    number_qubits = max_len*5-1 #number of qubits of the circuit \n",
    "    \n",
    "    qc = QuantumCircuit(number_qubits,2) #We define the circuit which takes into account the required dimension of the circuit for the input integers\n",
    "    \n",
    "    int_gates(number_1,0) #Integers encoding\n",
    "    int_gates(number_2,1)\n",
    "    \n",
    "    qc.barrier()\n",
    "    \n",
    "    i=0    \n",
    "    while i<number_qubits: #U_c blocks\n",
    "        U_c(i)\n",
    "        i+=5\n",
    "        \n",
    "    qc.barrier()\n",
    "    \n",
    "    i=4\n",
    "    while i<number_qubits-4: #Toffoli gates activated when controls are in 0\n",
    "        qc.x(i-2)\n",
    "        qc.x(i-1)    \n",
    "        qc.toffoli(i-2,i-1,i)\n",
    "        qc.x(i-2)\n",
    "        qc.x(i-1)\n",
    "        i+=5\n",
    "                  \n",
    "    qc.barrier()\n",
    "    \n",
    "    i=number_qubits-5\n",
    "    while i>3: #Toffoli gates\n",
    "        qc.toffoli(i+3,i,i-2)\n",
    "        qc.toffoli(i+4,i,i-1)\n",
    "        qc.barrier()\n",
    "        i-=5\n",
    "                  \n",
    "    qc.measure(2,0) #The corresponding qubits are measured\n",
    "    qc.measure(3,1)\n",
    "                  \n",
    "    simulator = Aer.get_backend('aer_simulator') #Simulation results\n",
    "    qc = transpile(qc, simulator)\n",
    "\n",
    "    result = simulator.run(qc).result()\n",
    "    counts = result.get_counts(qc)\n",
    "    \n",
    "    keys = list(counts.keys())\n",
    "    \n",
    "    #Determines which integer is the largest according to the measurement result\n",
    "    \n",
    "    final_number = f\"both numbers are equal to {number_1}\" \n",
    "                  \n",
    "    if int(keys[0][0]) == 1 and int(keys[0][1]) == 0: \n",
    "        final_number = number_1\n",
    "                  \n",
    "    if int(keys[0][0]) == 0 and int(keys[0][1]) == 1:\n",
    "        final_number = number_2\n",
    "        \n",
    "    #qc.draw()\n",
    "                  \n",
    "    return final_number\n",
    "                "
   ]
  },
  {
   "cell_type": "markdown",
   "metadata": {},
   "source": [
    "Let's finally evalurate the function for several inputs"
   ]
  },
  {
   "cell_type": "code",
   "execution_count": 10,
   "metadata": {},
   "outputs": [
    {
     "data": {
      "text/plain": [
       "5"
      ]
     },
     "execution_count": 10,
     "metadata": {},
     "output_type": "execute_result"
    }
   ],
   "source": [
    "integer_comparator(5,3)"
   ]
  },
  {
   "cell_type": "code",
   "execution_count": 13,
   "metadata": {},
   "outputs": [
    {
     "data": {
      "text/plain": [
       "8"
      ]
     },
     "execution_count": 13,
     "metadata": {},
     "output_type": "execute_result"
    }
   ],
   "source": [
    "integer_comparator(6,8)"
   ]
  },
  {
   "cell_type": "code",
   "execution_count": 14,
   "metadata": {},
   "outputs": [
    {
     "data": {
      "text/plain": [
       "'both numbers are equal to 2'"
      ]
     },
     "execution_count": 14,
     "metadata": {},
     "output_type": "execute_result"
    }
   ],
   "source": [
    "integer_comparator(2,2)"
   ]
  },
  {
   "cell_type": "code",
   "execution_count": null,
   "metadata": {},
   "outputs": [],
   "source": []
  }
 ],
 "metadata": {
  "kernelspec": {
   "display_name": "Python 3",
   "language": "python",
   "name": "python3"
  },
  "language_info": {
   "codemirror_mode": {
    "name": "ipython",
    "version": 3
   },
   "file_extension": ".py",
   "mimetype": "text/x-python",
   "name": "python",
   "nbconvert_exporter": "python",
   "pygments_lexer": "ipython3",
   "version": "3.7.4"
  }
 },
 "nbformat": 4,
 "nbformat_minor": 2
}
